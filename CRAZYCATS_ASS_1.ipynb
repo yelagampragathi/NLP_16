{
  "nbformat": 4,
  "nbformat_minor": 0,
  "metadata": {
    "colab": {
      "provenance": [],
      "include_colab_link": true
    },
    "kernelspec": {
      "name": "python3",
      "display_name": "Python 3"
    },
    "language_info": {
      "name": "python"
    }
  },
  "cells": [
    {
      "cell_type": "markdown",
      "metadata": {
        "id": "view-in-github",
        "colab_type": "text"
      },
      "source": [
        "<a href=\"https://colab.research.google.com/github/yelagampragathi/NLP_16/blob/main/CRAZYCATS_ASS_1.ipynb\" target=\"_parent\"><img src=\"https://colab.research.google.com/assets/colab-badge.svg\" alt=\"Open In Colab\"/></a>"
      ]
    },
    {
      "cell_type": "code",
      "source": [
        "import pandas as pd\n",
        "from nltk.tokenize import sent_tokenize\n"
      ],
      "metadata": {
        "id": "ZA0C58flT1Nz"
      },
      "execution_count": null,
      "outputs": []
    },
    {
      "cell_type": "markdown",
      "source": [
        " Define a function for ambiguity removal"
      ],
      "metadata": {
        "id": "NwTkkgKTWFLa"
      }
    },
    {
      "cell_type": "code",
      "source": [
        "def remove_ambiguity(text):\n",
        "    # This is a placeholder function; implement your logic here\n",
        "    # Example logic to clarify the sentence\n",
        "    # For simplicity, let's assume we're replacing \"it\" with a clearer subject\n",
        "    clarified_text = text.replace(\"it\", \"the bank\")\n",
        "    return clarified_text"
      ],
      "metadata": {
        "id": "wyujqZNIWFkm"
      },
      "execution_count": null,
      "outputs": []
    },
    {
      "cell_type": "markdown",
      "source": [
        "\n",
        "# Define the data"
      ],
      "metadata": {
        "id": "V90TFCisWLlR"
      }
    },
    {
      "cell_type": "code",
      "source": [
        "data = {\n",
        "    'ID': [1, 2, 3, 4, 5, 6, 7, 8, 9, 10, 11],\n",
        "    'English Text': [\n",
        "        'What is your name?',\n",
        "        'Where do you live?',\n",
        "        'How old are you?',\n",
        "        'What do you do for a living?',\n",
        "        'What is your favorite color?',\n",
        "        'Do you like sports?',\n",
        "        'Can you speak English?',\n",
        "        'What is your profession?',\n",
        "        'What is your favorite food?',\n",
        "        'Where do you work?',\n",
        "        'What is your favorite movie?'\n",
        "    ],\n",
        "    'Telugu Answer': [\n",
        "        'నా పేరు రామ్.',\n",
        "        'నేను హైదరాబాద్‌లో ఉంటాను.',\n",
        "        'నేను 25 సంవత్సరాలు ఉన్నాను.',\n",
        "        'నేను ఒక ఇంజనీర్‌గానుగా పనిచేస్తాను.',\n",
        "        'నా ప్రియమైన రంగు నీలం.',\n",
        "        'అవును, నాకు క్రీడలు ఇష్టం.',\n",
        "        'అవును, నేను ఇంగ్లీష్ మాట్లాడగలను.',\n",
        "        'నేను ఒక డాక్టర్‌ను.',\n",
        "        'నా ప్రియమైన భోజనం బిర్యానీ.',\n",
        "        'నేను ఒక సాఫ్ట్‌వేర్ కంపెనీలో పనిచేస్తాను.',\n",
        "        'నా ప్రియమైన సినిమా బాహుబలి.'\n",
        "    ],\n",
        "    'Hindi Answer': [\n",
        "        'मेरा नाम राम है।',\n",
        "        'मैं हैदराबाद में रहता हूँ।',\n",
        "        'मैं 25 साल का हूँ।',\n",
        "        'मैं एक इंजीनियर हूँ।',\n",
        "        'मेरा पसंदीदा रंग नीला है।',\n",
        "        'हाँ, मुझे खेल पसंद हैं।',\n",
        "        'हाँ, मैं अंग्रेजी बोल सकता हूँ।',\n",
        "        'मैं एक डॉक्टर हूँ।',\n",
        "        'मेरा पसंदीदा खाना बिरयानी है।',\n",
        "        'मैं एक सॉफ़्टवेयर कंपनी में काम करता हूँ।',\n",
        "        'मेरा पसंदीदा फिल्म बाहुबली है।'\n",
        "    ],\n",
        "    'Tamil Answer': [\n",
        "        'என் பெயர் ராம்.',\n",
        "        'நான் ஹைதராபாத்தில் வசிக்கிறேன்.',\n",
        "        'நான் 25 வயது.',\n",
        "        'நான் ஒரு பொறியாளர்.',\n",
        "        'எனக்கு பிடித்த நிறம் நீலம்.',\n",
        "        'ஆமாம், எனக்கு விளையாட்டு பிடிக்கும்.',\n",
        "        'ஆமாம், நான் ஆங்கிலம் பேச முடியும்.',\n",
        "        'நான் ஒரு டாக்டர்.',\n",
        "        'எனக்கு பிடித்த உணவு பிரியாணி.',\n",
        "        'நான் ஒரு மென்பொருள் நிறுவனத்தில் வேலை செய்கிறேன்.',\n",
        "        'என் பிடித்த திரைப்படம் பாகுபலி.'\n",
        "    ],\n",
        "    'Malayalam Answer': [\n",
        "        'എന്റെ പേര് രാം.',\n",
        "        'ഞാൻ ഹൈദരാബാദിൽ താമസിക്കുന്നു.',\n",
        "        'എനിക്ക് 25 വയസ്സാണ്.',\n",
        "        'ഞാൻ ഒരു എൻജിനീയർ ആണ്.',\n",
        "        'എനിക്ക് ഇഷ്ടമുള്ള നിറം നീലമാണ്.',\n",
        "        'അതെ, എനിക്ക് കായികങ്ങൾ ഇഷ്ടമാണ്.',\n",
        "        'അതെ, ഞാൻ ഇംഗ്ലീഷ് സംസാരിക്കാം.',\n",
        "        'ഞാൻ ഒരു ഡോക്ടർ ആണ്.',\n",
        "        'എനിക്ക് ഇഷ്ടമുള്ള ഭക്ഷണം ബിരിയാണി.',\n",
        "        'ഞാൻ ഒരു സോഫ്റ്റ്‌വെയർ കമ്പനിയിൽ ജോലി ചെയ്യുന്നു.',\n",
        "        'എന്റെ ഇഷ്ടപ്പെട്ട സിനിമ ബാഹുബലി ആണ്.'\n",
        "    ]\n",
        "}\n"
      ],
      "metadata": {
        "id": "XNJ3iRsTWL9P"
      },
      "execution_count": null,
      "outputs": []
    },
    {
      "cell_type": "markdown",
      "source": [
        "# Create a DataFrame"
      ],
      "metadata": {
        "id": "GgMN5s5vWUCS"
      }
    },
    {
      "cell_type": "code",
      "source": [
        "df = pd.DataFrame(data)"
      ],
      "metadata": {
        "id": "7gkRa2bJWUnK"
      },
      "execution_count": null,
      "outputs": []
    },
    {
      "cell_type": "markdown",
      "source": [
        "\n",
        "# Define the text for ambiguity removal and sentence segmentation"
      ],
      "metadata": {
        "id": "Vs-gKFXgWaKy"
      }
    },
    {
      "cell_type": "code",
      "source": [
        "ambiguity_text = \"The bank can guarantee deposits will eventually cover future tuition costs because it invests in adjustable-rate mortgage securities.\"\n",
        "sentence_text = \"Hello there! How are you doing today? NLP is fascinating.\""
      ],
      "metadata": {
        "id": "xdd5Ov3DWbkI"
      },
      "execution_count": null,
      "outputs": []
    },
    {
      "cell_type": "markdown",
      "source": [
        "\n",
        "# Apply ambiguity removal"
      ],
      "metadata": {
        "id": "9SwAUW7lWkdx"
      }
    },
    {
      "cell_type": "code",
      "source": [
        "df.loc[0, 'English Text'] = remove_ambiguity(ambiguity_text)"
      ],
      "metadata": {
        "id": "1Yp8RgrRWk0y"
      },
      "execution_count": null,
      "outputs": []
    },
    {
      "cell_type": "markdown",
      "source": [
        "# Apply sentence segmentation"
      ],
      "metadata": {
        "id": "oooyW_RtWvE-"
      }
    },
    {
      "cell_type": "code",
      "source": [
        "sentences = sent_tokenize(sentence_text)\n",
        "df.loc[1, 'English Text'] = ' '.join(sentences)"
      ],
      "metadata": {
        "id": "VFwMM4R9WwGB"
      },
      "execution_count": null,
      "outputs": []
    },
    {
      "cell_type": "markdown",
      "source": [
        "\n",
        "# Save the modified DataFrame to a CSV file"
      ],
      "metadata": {
        "id": "SzpnF8IFW0Ps"
      }
    },
    {
      "cell_type": "code",
      "source": [
        "df.to_csv('/content/Indian language community chatbot.csv', index=False)"
      ],
      "metadata": {
        "id": "82HNxVAtW0oQ"
      },
      "execution_count": null,
      "outputs": []
    },
    {
      "cell_type": "code",
      "source": [
        "print(df)"
      ],
      "metadata": {
        "id": "kM5obCaiXOYR",
        "outputId": "b7170236-7ff2-4cf1-d75e-e8f186a2e3ed",
        "colab": {
          "base_uri": "https://localhost:8080/"
        }
      },
      "execution_count": null,
      "outputs": [
        {
          "output_type": "stream",
          "name": "stdout",
          "text": [
            "    ID                                       English Text  \\\n",
            "0    1  The bank can guarantee deposthe banks will eve...   \n",
            "1    2  Hello there! How are you doing today? NLP is f...   \n",
            "2    3                                   How old are you?   \n",
            "3    4                       What do you do for a living?   \n",
            "4    5                       What is your favorite color?   \n",
            "5    6                                Do you like sports?   \n",
            "6    7                             Can you speak English?   \n",
            "7    8                           What is your profession?   \n",
            "8    9                        What is your favorite food?   \n",
            "9   10                                 Where do you work?   \n",
            "10  11                       What is your favorite movie?   \n",
            "\n",
            "                                Telugu Answer  \\\n",
            "0                               నా పేరు రామ్.   \n",
            "1                   నేను హైదరాబాద్‌లో ఉంటాను.   \n",
            "2                 నేను 25 సంవత్సరాలు ఉన్నాను.   \n",
            "3         నేను ఒక ఇంజనీర్‌గానుగా పనిచేస్తాను.   \n",
            "4                      నా ప్రియమైన రంగు నీలం.   \n",
            "5                  అవును, నాకు క్రీడలు ఇష్టం.   \n",
            "6           అవును, నేను ఇంగ్లీష్ మాట్లాడగలను.   \n",
            "7                         నేను ఒక డాక్టర్‌ను.   \n",
            "8                 నా ప్రియమైన భోజనం బిర్యానీ.   \n",
            "9   నేను ఒక సాఫ్ట్‌వేర్ కంపెనీలో పనిచేస్తాను.   \n",
            "10                నా ప్రియమైన సినిమా బాహుబలి.   \n",
            "\n",
            "                                 Hindi Answer  \\\n",
            "0                            मेरा नाम राम है।   \n",
            "1                  मैं हैदराबाद में रहता हूँ।   \n",
            "2                          मैं 25 साल का हूँ।   \n",
            "3                        मैं एक इंजीनियर हूँ।   \n",
            "4                   मेरा पसंदीदा रंग नीला है।   \n",
            "5                     हाँ, मुझे खेल पसंद हैं।   \n",
            "6             हाँ, मैं अंग्रेजी बोल सकता हूँ।   \n",
            "7                          मैं एक डॉक्टर हूँ।   \n",
            "8               मेरा पसंदीदा खाना बिरयानी है।   \n",
            "9   मैं एक सॉफ़्टवेयर कंपनी में काम करता हूँ।   \n",
            "10             मेरा पसंदीदा फिल्म बाहुबली है।   \n",
            "\n",
            "                                         Tamil Answer  \\\n",
            "0                                     என் பெயர் ராம்.   \n",
            "1                     நான் ஹைதராபாத்தில் வசிக்கிறேன்.   \n",
            "2                                       நான் 25 வயது.   \n",
            "3                                 நான் ஒரு பொறியாளர்.   \n",
            "4                         எனக்கு பிடித்த நிறம் நீலம்.   \n",
            "5                ஆமாம், எனக்கு விளையாட்டு பிடிக்கும்.   \n",
            "6                  ஆமாம், நான் ஆங்கிலம் பேச முடியும்.   \n",
            "7                                   நான் ஒரு டாக்டர்.   \n",
            "8                       எனக்கு பிடித்த உணவு பிரியாணி.   \n",
            "9   நான் ஒரு மென்பொருள் நிறுவனத்தில் வேலை செய்கிறேன்.   \n",
            "10                    என் பிடித்த திரைப்படம் பாகுபலி.   \n",
            "\n",
            "                                    Malayalam Answer  \n",
            "0                                    എന്റെ പേര് രാം.  \n",
            "1                      ഞാൻ ഹൈദരാബാദിൽ താമസിക്കുന്നു.  \n",
            "2                               എനിക്ക് 25 വയസ്സാണ്.  \n",
            "3                              ഞാൻ ഒരു എൻജിനീയർ ആണ്.  \n",
            "4                    എനിക്ക് ഇഷ്ടമുള്ള നിറം നീലമാണ്.  \n",
            "5                   അതെ, എനിക്ക് കായികങ്ങൾ ഇഷ്ടമാണ്.  \n",
            "6                     അതെ, ഞാൻ ഇംഗ്ലീഷ് സംസാരിക്കാം.  \n",
            "7                                ഞാൻ ഒരു ഡോക്ടർ ആണ്.  \n",
            "8                 എനിക്ക് ഇഷ്ടമുള്ള ഭക്ഷണം ബിരിയാണി.  \n",
            "9   ഞാൻ ഒരു സോഫ്റ്റ്‌വെയർ കമ്പനിയിൽ ജോലി ചെയ്യുന്നു.  \n",
            "10              എന്റെ ഇഷ്ടപ്പെട്ട സിനിമ ബാഹുബലി ആണ്.  \n"
          ]
        }
      ]
    }
  ]
}