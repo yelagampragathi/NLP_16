{
  "nbformat": 4,
  "nbformat_minor": 0,
  "metadata": {
    "colab": {
      "provenance": [],
      "include_colab_link": true
    },
    "kernelspec": {
      "name": "python3",
      "display_name": "Python 3"
    },
    "language_info": {
      "name": "python"
    }
  },
  "cells": [
    {
      "cell_type": "markdown",
      "metadata": {
        "id": "view-in-github",
        "colab_type": "text"
      },
      "source": [
        "<a href=\"https://colab.research.google.com/github/yelagampragathi/NLP_16/blob/main/CRAZYCATS_ASS_3.ipynb\" target=\"_parent\"><img src=\"https://colab.research.google.com/assets/colab-badge.svg\" alt=\"Open In Colab\"/></a>"
      ]
    },
    {
      "cell_type": "code",
      "execution_count": null,
      "metadata": {
        "id": "NxzXtDBJ0roH"
      },
      "outputs": [],
      "source": [
        "# Install necessary libraries if not already installed\n",
        "# !pip install gensim scikit-learn spacy matplotlib\n",
        "\n",
        "# Load necessary libraries\n",
        "from gensim.models import KeyedVectors\n",
        "from sklearn.decomposition import PCA\n",
        "import matplotlib.pyplot as plt\n",
        "import spacy\n",
        "import gensim.downloader as api\n",
        "import pandas as pd\n",
        "import numpy as np"
      ]
    },
    {
      "cell_type": "code",
      "source": [
        "\n",
        "# Load the SpaCy model for dependency parsing\n",
        "print(\"\\nLoading SpaCy model for dependency parsing...\")\n",
        "nlp = spacy.load('en_core_web_sm')\n",
        "print(\"SpaCy model loaded successfully!\")"
      ],
      "metadata": {
        "colab": {
          "base_uri": "https://localhost:8080/"
        },
        "id": "_NWRs-ZQAO_k",
        "outputId": "dfe06333-b42b-4483-bf32-2188a53454d0"
      },
      "execution_count": null,
      "outputs": [
        {
          "output_type": "stream",
          "name": "stdout",
          "text": [
            "\n",
            "Loading SpaCy model for dependency parsing...\n",
            "SpaCy model loaded successfully!\n"
          ]
        }
      ]
    },
    {
      "cell_type": "code",
      "source": [
        "# Load dataset (replace this with your dataset file)\n",
        "dataset_path = '/content/Indian language community chatbot.csv'  # Replace with your dataset path\n",
        "df = pd.read_csv(dataset_path)"
      ],
      "metadata": {
        "id": "iORfy_hv1DMG"
      },
      "execution_count": null,
      "outputs": []
    },
    {
      "cell_type": "code",
      "source": [
        "data = {\n",
        "    \"ID\": [1, 2, 3],\n",
        "    \"English Text\": [\n",
        "        \"I love mangoes.\",\n",
        "        \"No, I am active at night.\",\n",
        "        \"My dream is to become a pilot.\"\n",
        "    ]\n",
        "}"
      ],
      "metadata": {
        "id": "uRflzJCh7L_M"
      },
      "execution_count": null,
      "outputs": []
    },
    {
      "cell_type": "code",
      "source": [
        "# Convert dictionary to DataFrame\n",
        "df = pd.DataFrame(data)"
      ],
      "metadata": {
        "id": "nYySrt08AbA7"
      },
      "execution_count": null,
      "outputs": []
    },
    {
      "cell_type": "code",
      "source": [
        "# Initialize lists for word embeddings and corresponding words\n",
        "filtered_words = []\n",
        "embeddings = []"
      ],
      "metadata": {
        "id": "P97R3ije_5QN"
      },
      "execution_count": null,
      "outputs": []
    },
    {
      "cell_type": "code",
      "source": [
        "# Dummy implementation of word embeddings - replace with your actual embedding method\n",
        "def get_word_embedding(word):\n",
        "    # Dummy vector based on word length for illustration purposes\n",
        "    return np.array([len(word), ord(word[0]) % 128])"
      ],
      "metadata": {
        "id": "XcifsNJiAmkn"
      },
      "execution_count": null,
      "outputs": []
    },
    {
      "cell_type": "code",
      "source": [
        "# Perform dependency parsing and collect embeddings\n",
        "for index, row in df.iterrows():\n",
        "    text = row[\"English Text\"]\n",
        "    doc = nlp(text)\n",
        "\n",
        "    print(f\"\\nDependency Parsing for Text {index + 1}: '{text}'\")\n",
        "    for token in doc:\n",
        "        print(f'{token.text:10} {token.dep_:10} {token.head.text:10} {token.head.pos_:10} {str([child for child in token.children]):30}')\n",
        "\n",
        "        # Collect words and their embeddings\n",
        "        filtered_words.append(token.text)\n",
        "        embeddings.append(get_word_embedding(token.text))"
      ],
      "metadata": {
        "colab": {
          "base_uri": "https://localhost:8080/"
        },
        "id": "ro0AngjUB0Tl",
        "outputId": "e95f72c8-014a-401d-a36a-876db0bb006d"
      },
      "execution_count": null,
      "outputs": [
        {
          "output_type": "stream",
          "name": "stdout",
          "text": [
            "\n",
            "Dependency Parsing for Text 1: 'I love mangoes.'\n",
            "I          nsubj      love       VERB       []                            \n",
            "love       ROOT       love       VERB       [I, mangoes, .]               \n",
            "mangoes    dobj       love       VERB       []                            \n",
            ".          punct      love       VERB       []                            \n",
            "\n",
            "Dependency Parsing for Text 2: 'No, I am active at night.'\n",
            "No         intj       am         AUX        []                            \n",
            ",          punct      am         AUX        []                            \n",
            "I          nsubj      am         AUX        []                            \n",
            "am         ROOT       am         AUX        [No, ,, I, active, at, .]     \n",
            "active     acomp      am         AUX        []                            \n",
            "at         prep       am         AUX        [night]                       \n",
            "night      pobj       at         ADP        []                            \n",
            ".          punct      am         AUX        []                            \n",
            "\n",
            "Dependency Parsing for Text 3: 'My dream is to become a pilot.'\n",
            "My         poss       dream      NOUN       []                            \n",
            "dream      nsubj      is         AUX        [My]                          \n",
            "is         ROOT       is         AUX        [dream, become, .]            \n",
            "to         aux        become     VERB       []                            \n",
            "become     xcomp      is         AUX        [to, pilot]                   \n",
            "a          det        pilot      NOUN       []                            \n",
            "pilot      attr       become     VERB       [a]                           \n",
            ".          punct      is         AUX        []                            \n"
          ]
        }
      ]
    },
    {
      "cell_type": "code",
      "source": [
        "# Convert embeddings to numpy array\n",
        "embeddings = np.array(embeddings)"
      ],
      "metadata": {
        "id": "6uswNLUiD8Dd"
      },
      "execution_count": null,
      "outputs": []
    },
    {
      "cell_type": "code",
      "source": [
        "# Check the number of samples in embeddings\n",
        "n_samples = embeddings.shape[0]"
      ],
      "metadata": {
        "id": "INUIwoPP3LO-"
      },
      "execution_count": null,
      "outputs": []
    },
    {
      "cell_type": "code",
      "source": [
        "# Set n_components dynamically based on the number of samples\n",
        "n_components = min(2, n_samples)"
      ],
      "metadata": {
        "id": "0Pzc7TBt-Pov"
      },
      "execution_count": null,
      "outputs": []
    },
    {
      "cell_type": "code",
      "source": [
        "# Perform PCA with the appropriate number of components\n",
        "pca = PCA(n_components=n_components)\n",
        "result = pca.fit_transform(embeddings)"
      ],
      "metadata": {
        "id": "KDrch2St-UvS"
      },
      "execution_count": null,
      "outputs": []
    },
    {
      "cell_type": "code",
      "source": [
        "# Plotting\n",
        "plt.figure(figsize=(10, 6))"
      ],
      "metadata": {
        "colab": {
          "base_uri": "https://localhost:8080/",
          "height": 52
        },
        "id": "QkLP4hTY-Xns",
        "outputId": "a8f90172-0947-4cc2-e211-e80b56fd4323"
      },
      "execution_count": null,
      "outputs": [
        {
          "output_type": "execute_result",
          "data": {
            "text/plain": [
              "<Figure size 1000x600 with 0 Axes>"
            ]
          },
          "metadata": {},
          "execution_count": 36
        },
        {
          "output_type": "display_data",
          "data": {
            "text/plain": [
              "<Figure size 1000x600 with 0 Axes>"
            ]
          },
          "metadata": {}
        }
      ]
    },
    {
      "cell_type": "code",
      "source": [
        "# If n_components is 2, we can plot a 2D scatter plot\n",
        "if n_components == 2:\n",
        "    plt.scatter(result[:, 0], result[:, 1])\n",
        "\n",
        "    # Annotate each point with the corresponding word\n",
        "    for i, word in enumerate(filtered_words):\n",
        "        plt.annotate(word, xy=(result[i, 0], result[i, 1]), textcoords=\"offset points\", xytext=(0, 5), ha='center')\n",
        "\n",
        "    plt.xlabel('Principal Component 1')\n",
        "    plt.ylabel('Principal Component 2')\n",
        "    # If n_components is 1, create a simple line plot\n",
        "elif n_components == 1:\n",
        "    plt.scatter(result[:, 0], [0] * len(result))  # Plot along a single axis\n",
        "\n",
        "    # Annotate each point with the corresponding word\n",
        "    for i, word in enumerate(filtered_words):\n",
        "        plt.annotate(word, xy=(result[i, 0], 0), textcoords=\"offset points\", xytext=(0, 5), ha='center')\n",
        "\n",
        "    plt.xlabel('Principal Component 1')\n",
        "\n",
        "plt.title('Word Embeddings Visualized Using PCA')\n",
        "plt.show()\n"
      ],
      "metadata": {
        "colab": {
          "base_uri": "https://localhost:8080/",
          "height": 472
        },
        "id": "lQGqUSPm-hGK",
        "outputId": "2b02cb3c-0a15-45dd-99db-65f032735f99"
      },
      "execution_count": null,
      "outputs": [
        {
          "output_type": "display_data",
          "data": {
            "text/plain": [
              "<Figure size 640x480 with 1 Axes>"
            ],
            "image/png": "[encoded data removed]"
          },
          "metadata": {}
        }
      ]
    }
  ]
}