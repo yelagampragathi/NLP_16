{
  "nbformat": 4,
  "nbformat_minor": 0,
  "metadata": {
    "colab": {
      "provenance": [],
      "include_colab_link": true
    },
    "kernelspec": {
      "name": "python3",
      "display_name": "Python 3"
    },
    "language_info": {
      "name": "python"
    }
  },
  "cells": [
    {
      "cell_type": "markdown",
      "metadata": {
        "id": "view-in-github",
        "colab_type": "text"
      },
      "source": [
        "<a href=\"https://colab.research.google.com/github/yelagampragathi/NLP_16/blob/main/CRAZYCATS_ASS_6.ipynb\" target=\"_parent\"><img src=\"https://colab.research.google.com/assets/colab-badge.svg\" alt=\"Open In Colab\"/></a>"
      ]
    },
    {
      "cell_type": "code",
      "source": [
        "import pandas as pd\n",
        "import numpy as np\n",
        "import tensorflow as tf\n",
        "from tensorflow import keras\n",
        "from tensorflow.keras import layers\n",
        "from sklearn.model_selection import train_test_split\n"
      ],
      "metadata": {
        "id": "M_i_8h1iiCA2"
      },
      "execution_count": null,
      "outputs": []
    },
    {
      "cell_type": "code",
      "source": [
        "# Sample data\n",
        "data = {\n",
        "    'English': [\n",
        "        \"What is your name?\", \"Where do you live?\", \"How old are you?\",\n",
        "        \"What do you do for a living?\", \"What is your favorite color?\"\n",
        "    ],\n",
        "    'Telugu': [\n",
        "        \"నీ పేరు ఏమిటి?\", \"నువ్వు ఎక్కడ నివసిస్తున్నావు?\", \"మీరు ఎంత వయస్సు ఉన్నారు?\",\n",
        "        \"మీరు జీవించడానికి ఏమి చేస్తున్నారు?\", \"మీ ఇష్ట రంగు ఏది?\"\n",
        "    ],\n",
        "    'Hindi': [\n",
        "        \"आपका नाम क्या है?\", \"आप कहाँ रहते हैं?\", \"आपकी उम्र क्या है?\",\n",
        "        \"आप क्या करते हैं?\", \"आपका पसंदीदा रंग क्या है?\"\n",
        "    ],\n",
        "    'Tamil': [\n",
        "        \"உங்கள் பெயர் என்ன?\", \"நீங்கள் எங்கு வாழ்கிறீர்கள்?\", \"உங்கள் வயது என்ன?\",\n",
        "        \"நீங்கள் என்ன வேலை செய்கிறீர்கள்?\", \"உங்கள் விருப்பமான நிறம் என்ன?\"\n",
        "    ]\n",
        "}\n",
        "\n",
        "df = pd.DataFrame(data)\n"
      ],
      "metadata": {
        "id": "W9LAxb3ViDBv"
      },
      "execution_count": null,
      "outputs": []
    },
    {
      "cell_type": "code",
      "source": [
        "# Convert all entries to strings and handle NaN values\n",
        "for lang in df.columns:\n",
        "    df[lang] = df[lang].astype(str).fillna(\"unknown\")\n",
        "\n",
        "# Initialize a dictionary to hold tokenizers\n",
        "tokenizers = {}\n",
        "\n",
        "# Fit the tokenizer on each language's data\n",
        "for lang in df.columns:\n",
        "    tokenizer = keras.preprocessing.text.Tokenizer()\n",
        "    tokenizer.fit_on_texts(df[lang])\n",
        "    tokenizers[lang] = tokenizer\n"
      ],
      "metadata": {
        "id": "X-F2Q9J1iG8V"
      },
      "execution_count": null,
      "outputs": []
    },
    {
      "cell_type": "code",
      "source": [
        "# Prepare the input and output sequences for training\n",
        "X_data = []\n",
        "y_data = []\n",
        "\n",
        "for lang in df.columns:\n",
        "    for text in df[lang]:\n",
        "        X_data.append(text)\n",
        "        # Assign a label based on the language\n",
        "        y_data.append(lang)  # Here, the label is the language name\n",
        "\n",
        "# Convert y_data to a categorical format (you may choose to encode it differently)\n",
        "y_data_encoded = pd.get_dummies(y_data).values  # One-hot encoding for multi-class\n"
      ],
      "metadata": {
        "id": "yiA68EDriLaQ"
      },
      "execution_count": null,
      "outputs": []
    },
    {
      "cell_type": "code",
      "source": [
        "# Train/Test Split\n",
        "X_train, X_test, y_train, y_test = train_test_split(X_data, y_data_encoded, test_size=0.2, random_state=42)\n"
      ],
      "metadata": {
        "id": "NJwnLr-NiNfx"
      },
      "execution_count": null,
      "outputs": []
    },
    {
      "cell_type": "code",
      "source": [
        "# Padding sequences\n",
        "max_len = 20\n",
        "X_train_seq = tokenizers['English'].texts_to_sequences(X_train)\n",
        "X_train_seq = keras.preprocessing.sequence.pad_sequences(X_train_seq, maxlen=max_len)\n",
        "\n",
        "# Prepare test sequences\n",
        "X_test_seq = tokenizers['English'].texts_to_sequences(X_test)\n",
        "X_test_seq = keras.preprocessing.sequence.pad_sequences(X_test_seq, maxlen=max_len)\n"
      ],
      "metadata": {
        "id": "GW6OaWVriO8g"
      },
      "execution_count": null,
      "outputs": []
    },
    {
      "cell_type": "code",
      "source": [
        "# Define a simple model architecture\n",
        "def create_model():\n",
        "    model = keras.Sequential()\n",
        "    model.add(layers.Embedding(input_dim=len(tokenizers['English'].word_index) + 1, output_dim=128))\n",
        "    model.add(layers.LSTM(64))\n",
        "    model.add(layers.Dense(len(y_data_encoded[0]), activation='softmax'))  # Adjust for multiple classes\n",
        "    model.compile(loss='categorical_crossentropy', optimizer='adam', metrics=['accuracy'])\n",
        "    return model\n"
      ],
      "metadata": {
        "id": "wTo9C6I0iR-N"
      },
      "execution_count": null,
      "outputs": []
    },
    {
      "cell_type": "code",
      "source": [
        "# Create and train the model\n",
        "model = create_model()\n",
        "model.fit(X_train_seq, y_train, epochs=5, batch_size=32)\n",
        "\n"
      ],
      "metadata": {
        "colab": {
          "base_uri": "https://localhost:8080/"
        },
        "id": "UlR3PYdqiToH",
        "outputId": "3791e191-c904-48b0-905f-8665904d5de7"
      },
      "execution_count": null,
      "outputs": [
        {
          "output_type": "stream",
          "name": "stdout",
          "text": [
            "Epoch 1/5\n",
            "\u001b[1m1/1\u001b[0m \u001b[32m━━━━━━━━━━━━━━━━━━━━\u001b[0m\u001b[37m\u001b[0m \u001b[1m5s\u001b[0m 5s/step - accuracy: 0.1250 - loss: 1.3938\n",
            "Epoch 2/5\n",
            "\u001b[1m1/1\u001b[0m \u001b[32m━━━━━━━━━━━━━━━━━━━━\u001b[0m\u001b[37m\u001b[0m \u001b[1m0s\u001b[0m 176ms/step - accuracy: 0.3750 - loss: 1.3724\n",
            "Epoch 3/5\n",
            "\u001b[1m1/1\u001b[0m \u001b[32m━━━━━━━━━━━━━━━━━━━━\u001b[0m\u001b[37m\u001b[0m \u001b[1m0s\u001b[0m 55ms/step - accuracy: 0.3125 - loss: 1.3530\n",
            "Epoch 4/5\n",
            "\u001b[1m1/1\u001b[0m \u001b[32m━━━━━━━━━━━━━━━━━━━━\u001b[0m\u001b[37m\u001b[0m \u001b[1m0s\u001b[0m 47ms/step - accuracy: 0.3125 - loss: 1.3351\n",
            "Epoch 5/5\n",
            "\u001b[1m1/1\u001b[0m \u001b[32m━━━━━━━━━━━━━━━━━━━━\u001b[0m\u001b[37m\u001b[0m \u001b[1m0s\u001b[0m 58ms/step - accuracy: 0.3125 - loss: 1.3182\n"
          ]
        },
        {
          "output_type": "execute_result",
          "data": {
            "text/plain": [
              "<keras.src.callbacks.history.History at 0x7a2fd2abdd20>"
            ]
          },
          "metadata": {},
          "execution_count": 32
        }
      ]
    },
    {
      "cell_type": "code",
      "source": [
        "# Evaluate the model\n",
        "lstm_accuracy = model.evaluate(X_test_seq, y_test)\n",
        "print(f'Model Accuracy: {lstm_accuracy[1]}')\n"
      ],
      "metadata": {
        "colab": {
          "base_uri": "https://localhost:8080/"
        },
        "id": "e5vQ8YojiXjP",
        "outputId": "68a4dd01-458f-4958-d46e-179efa0df236"
      },
      "execution_count": null,
      "outputs": [
        {
          "output_type": "stream",
          "name": "stdout",
          "text": [
            "\u001b[1m1/1\u001b[0m \u001b[32m━━━━━━━━━━━━━━━━━━━━\u001b[0m\u001b[37m\u001b[0m \u001b[1m0s\u001b[0m 347ms/step - accuracy: 0.0000e+00 - loss: 1.4790\n",
            "Model Accuracy: 0.0\n"
          ]
        }
      ]
    }
  ]
}